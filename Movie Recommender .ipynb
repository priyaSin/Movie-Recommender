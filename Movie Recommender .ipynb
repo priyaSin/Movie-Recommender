{
 "cells": [
  {
   "cell_type": "code",
   "execution_count": 80,
   "metadata": {
    "collapsed": true
   },
   "outputs": [],
   "source": [
    "import numpy as np"
   ]
  },
  {
   "cell_type": "code",
   "execution_count": 81,
   "metadata": {},
   "outputs": [
    {
     "name": "stdout",
     "output_type": "stream",
     "text": [
      "[[ 9  3  2  3  8]\n",
      " [ 6  0  2 10  5]\n",
      " [ 7  6  1  4  7]\n",
      " [ 4  3  0  2  9]\n",
      " [ 8  8  7  7  1]\n",
      " [ 5  7  2  4  8]\n",
      " [ 7  6  1  4  6]\n",
      " [ 5  7  0  9  8]\n",
      " [10  7  2  3  9]\n",
      " [10  6  8  0  5]]\n"
     ]
    }
   ],
   "source": [
    "num_movies=10\n",
    "num_users=5\n",
    "ratings = random.randint(11, size=(num_movies, num_users))\n",
    "\n",
    "print (ratings) #We have a ratings matrix for 5 users giving ratings from 1 to 10 to 10 different movies.\n",
    "#0 Indicates that the user has not rated a particular movie"
   ]
  },
  {
   "cell_type": "code",
   "execution_count": 82,
   "metadata": {},
   "outputs": [
    {
     "name": "stdout",
     "output_type": "stream",
     "text": [
      "[[1 1 1 1 1]\n",
      " [1 0 1 1 1]\n",
      " [1 1 1 1 1]\n",
      " [1 1 0 1 1]\n",
      " [1 1 1 1 1]\n",
      " [1 1 1 1 1]\n",
      " [1 1 1 1 1]\n",
      " [1 1 0 1 1]\n",
      " [1 1 1 1 1]\n",
      " [1 1 1 0 1]]\n"
     ]
    }
   ],
   "source": [
    "did_rate = (ratings != 0) * 1  #this matrix simply tells if the user has rated a particular movie or not\n",
    "print(did_rate)"
   ]
  },
  {
   "cell_type": "code",
   "execution_count": 83,
   "metadata": {},
   "outputs": [
    {
     "name": "stdout",
     "output_type": "stream",
     "text": [
      "[[ 0.]\n",
      " [ 0.]\n",
      " [ 0.]\n",
      " [ 0.]\n",
      " [ 0.]\n",
      " [ 0.]\n",
      " [ 0.]\n",
      " [ 0.]\n",
      " [ 0.]\n",
      " [ 0.]]\n"
     ]
    }
   ],
   "source": [
    "priya_ratings = zeros((num_movies , 1))  #A matrix initially with 0 values (assuming that user hasnt rated yet) for\n",
    "#a particular user with 10 rows for 10 movies\n",
    "print (priya_ratings)"
   ]
  },
  {
   "cell_type": "code",
   "execution_count": 84,
   "metadata": {},
   "outputs": [
    {
     "name": "stdout",
     "output_type": "stream",
     "text": [
      "[[ 8.]\n",
      " [ 0.]\n",
      " [ 0.]\n",
      " [ 0.]\n",
      " [ 7.]\n",
      " [ 0.]\n",
      " [ 0.]\n",
      " [ 3.]\n",
      " [ 0.]\n",
      " [ 0.]]\n"
     ]
    }
   ],
   "source": [
    "#Here i am manually giving my ratings to the different movies in the list\n",
    "\n",
    "priya_ratings[0] = 8\n",
    "priya_ratings[4] = 7\n",
    "priya_ratings[7] = 3\n",
    "\n",
    "print(priya_ratings)\n"
   ]
  },
  {
   "cell_type": "code",
   "execution_count": 85,
   "metadata": {},
   "outputs": [
    {
     "name": "stdout",
     "output_type": "stream",
     "text": [
      "[[  8.   9.   3.   2.   3.   8.]\n",
      " [  0.   6.   0.   2.  10.   5.]\n",
      " [  0.   7.   6.   1.   4.   7.]\n",
      " [  0.   4.   3.   0.   2.   9.]\n",
      " [  7.   8.   8.   7.   7.   1.]\n",
      " [  0.   5.   7.   2.   4.   8.]\n",
      " [  0.   7.   6.   1.   4.   6.]\n",
      " [  3.   5.   7.   0.   9.   8.]\n",
      " [  0.  10.   7.   2.   3.   9.]\n",
      " [  0.  10.   6.   8.   0.   5.]]\n",
      "[[1 1 1 1 1 1]\n",
      " [0 1 0 1 1 1]\n",
      " [0 1 1 1 1 1]\n",
      " [0 1 1 0 1 1]\n",
      " [1 1 1 1 1 1]\n",
      " [0 1 1 1 1 1]\n",
      " [0 1 1 1 1 1]\n",
      " [1 1 1 0 1 1]\n",
      " [0 1 1 1 1 1]\n",
      " [0 1 1 1 0 1]]\n"
     ]
    }
   ],
   "source": [
    "ratings = append( (priya_ratings) ,ratings, axis=1)  #For user Priya, ratings matrix updated \n",
    "did_rate = append( ((priya_ratings !=0) *1) ,did_rate, axis=1) # and so did did_rate matrix\n",
    "\n",
    "\n",
    "print(ratings)\n",
    "print (did_rate)"
   ]
  },
  {
   "cell_type": "code",
   "execution_count": 86,
   "metadata": {},
   "outputs": [
    {
     "data": {
      "text/plain": [
       "array([-10.,   0.,  10.])"
      ]
     },
     "execution_count": 86,
     "metadata": {},
     "output_type": "execute_result"
    }
   ],
   "source": [
    "#We need to normalize our data before any machine learning alogrithm can be applied to it.\n",
    "# In simple words, we take mean of our data set and subtract mean from each element of the data set (Mean Normalise)\n",
    "\n",
    "#For example-\n",
    "\n",
    "a = [10, 20 , 30]\n",
    "avg = mean(a)\n",
    "a = a - avg\n",
    "a\n"
   ]
  },
  {
   "cell_type": "code",
   "execution_count": 87,
   "metadata": {
    "collapsed": true
   },
   "outputs": [],
   "source": [
    "#function to normalize a dataset\n",
    " \n",
    "def normalize_ratings(ratings , did_rate):            \n",
    "    #args- ratings because we want to normalize it and did_rate because we want to normalize \n",
    "    #only those movies which have been rated(or simply that we dont wanna add or sub anything from the cells with 0 values)\n",
    "    num_movies = ratings.shape[0]\n",
    "    \n",
    "    ratings_mean = zeros(shape = ((num_movies) ,1)) \n",
    "    #For storing later the mean of all the non-zero ratings for a particular movie\n",
    "    \n",
    "    ratings_norm = zeros(shape = (ratings.shape))\n",
    "    #For storing the normalized version of the ratings matrix \n",
    "\n",
    "    for i in range(num_movies):\n",
    "        #Get all the indices where rating is given\n",
    "        idx = where(did_rate[i] == 1)[0]   \n",
    "        #subscrpited 0 because where func returns a tuple and we need first element of the tuple which is an \n",
    "        #array of the indices of did rate hich statisfy a particular condition\n",
    "        #Calculate the mean of the ith movie only for tha columns user has given a rating\n",
    "        \n",
    "        \n",
    "        ratings_mean[i] = mean(ratings[i,idx]) #for non_zero ratings values i , j(idx) column \n",
    "        \n",
    "        ratings_norm[i, idx] = ratings[i,idx] - ratings_mean[i]\n",
    "        \n",
    "    return ratings_norm , ratings_mean\n",
    "        "
   ]
  },
  {
   "cell_type": "code",
   "execution_count": 88,
   "metadata": {
    "collapsed": true
   },
   "outputs": [],
   "source": [
    "ratings , ratings_mean = normalize_ratings( ratings , did_rate)"
   ]
  },
  {
   "cell_type": "code",
   "execution_count": 89,
   "metadata": {},
   "outputs": [
    {
     "name": "stdout",
     "output_type": "stream",
     "text": [
      "[[ 2.5         3.5        -2.5        -3.5        -2.5         2.5       ]\n",
      " [ 0.          0.25        0.         -3.75        4.25       -0.75      ]\n",
      " [ 0.          2.          1.         -4.         -1.          2.        ]\n",
      " [ 0.         -0.5        -1.5         0.         -2.5         4.5       ]\n",
      " [ 0.66666667  1.66666667  1.66666667  0.66666667  0.66666667 -5.33333333]\n",
      " [ 0.         -0.2         1.8        -3.2        -1.2         2.8       ]\n",
      " [ 0.          2.2         1.2        -3.8        -0.8         1.2       ]\n",
      " [-3.4        -1.4         0.6         0.          2.6         1.6       ]\n",
      " [ 0.          3.8         0.8        -4.2        -3.2         2.8       ]\n",
      " [ 0.          2.75       -1.25        0.75        0.         -2.25      ]]\n"
     ]
    }
   ],
   "source": [
    "print (ratings)"
   ]
  },
  {
   "cell_type": "code",
   "execution_count": 90,
   "metadata": {},
   "outputs": [
    {
     "name": "stdout",
     "output_type": "stream",
     "text": [
      "[[ 5.5       ]\n",
      " [ 5.75      ]\n",
      " [ 5.        ]\n",
      " [ 4.5       ]\n",
      " [ 6.33333333]\n",
      " [ 5.2       ]\n",
      " [ 4.8       ]\n",
      " [ 6.4       ]\n",
      " [ 6.2       ]\n",
      " [ 7.25      ]]\n"
     ]
    }
   ],
   "source": [
    "print (ratings_mean)"
   ]
  },
  {
   "cell_type": "code",
   "execution_count": 91,
   "metadata": {},
   "outputs": [],
   "source": [
    "num_users = ratings.shape[1]\n",
    "\n",
    "num_features = 3 \n",
    "#Can be 100 - 1000 to depending upon regularization, variance , overfitting\n",
    "# Feature here can be an action, comedy, romance\n",
    "# Key here is that these features are shared by all the movies and all the users"
   ]
  },
  {
   "cell_type": "code",
   "execution_count": 92,
   "metadata": {
    "collapsed": true
   },
   "outputs": [],
   "source": [
    "movie_features = random.randn(num_movies , num_features)  \n",
    "#We are genarating random numbers normally distributed as we dont have data sets \n",
    "\n",
    "user_prefs = random.randn(num_users , num_features) #Same as above\n",
    "\n",
    "#For applying linear regression we need x and theta(parameters) \n",
    "initial_X_and_theta = r_[movie_features.T.flatten() , user_prefs.T.flatten()] "
   ]
  },
  {
   "cell_type": "markdown",
   "metadata": {},
   "source": [
    "This above is a code for the table where each movie will be given a number, like probabiblity of that movie of being \"this fraction\" comedy  , \"this fraction\" romance and \"this fraction\" action. Similarly for user preferences that how much a user like to watch different genre movies."
   ]
  },
  {
   "cell_type": "code",
   "execution_count": 93,
   "metadata": {},
   "outputs": [],
   "source": [
    "def unroll_parameters ( X_and_theta , num_users , num_movies , num_features):\n",
    "    #Retrieving X and Theta from X_and_theta based on their dimensions\n",
    "    #------------------------------------------------------------------------------------------\n",
    "    \n",
    "    #Get the first 30 rows and convert them into 10X3 matrix\n",
    "    first_30 = X_and_theta[ : num_movies * num_features]  #Row slicing\n",
    "    \n",
    "    #We are extracting it exactly in the reverse way of how we created the x and theta combined matrix\n",
    "    X = first_30.reshape((num_features, num_movies)).transpose() \n",
    "    \n",
    "    #Get the rest 18 out of 48X1 matrix and reshape it\n",
    "    \n",
    "    last_18 = X_and_theta[num_movies * num_features : ] \n",
    "    \n",
    "    theta = last_18.reshape((num_features , num_users)).transpose()\n",
    "    \n",
    "    return X, theta\n",
    "    "
   ]
  },
  {
   "cell_type": "code",
   "execution_count": 94,
   "metadata": {
    "collapsed": true
   },
   "outputs": [],
   "source": [
    "def calculate_gradient (X_and_theta , ratings , did_rate , num_users , num_movies , num_features , reg_param):\n",
    "    X, theta = unroll_parameters(X_and_theta , num_users  , num_movies , num_features)\n",
    "    \n",
    "    #We multiply by did_rate becasue we only want to consider observations where user has given some rating\n",
    "    difference = X.dot(theta.T) * did_rate - ratings\n",
    "    \n",
    "    X_grad = difference.dot(theta) + reg_param * X\n",
    "    theta_grad = difference.T.dot(X) + reg_param * theta\n",
    "    \n",
    "    #wrap all the gradients back into a column vector\n",
    "    return r_[X_grad.T.flatten() , theta.T.flatten()]"
   ]
  },
  {
   "cell_type": "code",
   "execution_count": 95,
   "metadata": {
    "collapsed": true
   },
   "outputs": [],
   "source": [
    "def calculate_cost(X_and_theta , ratings , did_rate  , num_users , num_movies , num_features , reg_params):\n",
    "    X , theta = unroll_parameters(X_and_theta , num_users , num_movies , num_features)\n",
    "    \n",
    "    #Again multiplied by did_rate because we want to consider only those params \n",
    "    \n",
    "    cost = sum((X.dot(theta.T) * did_rate - ratings) **2 ) /2  # *did_rate means element-wise multiplication\n",
    "    \n",
    "    regularization = (reg_param / 2) * (sum(theta ** 2)) + sum(X ** 2)\n",
    "    return cost+regularization\n",
    "    \n",
    "    "
   ]
  },
  {
   "cell_type": "code",
   "execution_count": 96,
   "metadata": {},
   "outputs": [
    {
     "name": "stdout",
     "output_type": "stream",
     "text": [
      "Warning: Desired error not necessarily achieved due to precision loss.\n",
      "         Current function value: 153.466691\n",
      "         Iterations: 7\n",
      "         Function evaluations: 119\n",
      "         Gradient evaluations: 107\n"
     ]
    }
   ],
   "source": [
    "from scipy import optimize  #scipyt is used to minimized cost function using gradient descent\n",
    "reg_param = 30\n",
    "\n",
    "\n",
    "optimal_params_minimize_cost = optimize.fmin_cg(calculate_cost , fprime = calculate_gradient , x0=initial_X_and_theta , \\\n",
    "                            args = (ratings , did_rate , num_users , num_movies , num_features, reg_param), \\\n",
    "                            maxiter = 100 , disp = True , full_output = True)\n",
    "#We have to provide fmin_cg function - Cost , gradient and args(self-explanatory), \n",
    "#maxiter is the number of decends we want to make. Means calculate_cost and calculate_gradient is called a 100 times\n"
   ]
  },
  {
   "cell_type": "raw",
   "metadata": {},
   "source": [
    "Only 4 Iterations took place though we asked for 100 iterations. Reason is that we reached the optimum solution in 4 iterations only."
   ]
  },
  {
   "cell_type": "code",
   "execution_count": 97,
   "metadata": {},
   "outputs": [],
   "source": [
    "#Extracting cost and features and parameters from the above returned value\n",
    "optimal_movie_features_and_user_prefs  , cost = optimal_params_minimize_cost[0] , optimal_params_minimize_cost[1]  \n"
   ]
  },
  {
   "cell_type": "code",
   "execution_count": 101,
   "metadata": {},
   "outputs": [],
   "source": [
    "movie_features , user_prefs = unroll_parameters(optimal_movie_features_and_user_prefs , num_users , num_movies , num_features)"
   ]
  },
  {
   "cell_type": "code",
   "execution_count": 102,
   "metadata": {},
   "outputs": [
    {
     "name": "stdout",
     "output_type": "stream",
     "text": [
      "[[ -8.63695339e-05   2.13216221e-04  -2.49538373e-04]\n",
      " [  7.52107428e-04  -5.12036988e-04   1.49039486e-03]\n",
      " [ -4.77420471e-05   5.72069995e-04   4.19184336e-04]\n",
      " [ -1.20895561e-03  -3.07501344e-05  -9.62896145e-04]\n",
      " [ -1.32410119e-04  -6.57371091e-05   1.88597185e-04]\n",
      " [  9.22058739e-04  -4.19138250e-04   8.25897326e-04]\n",
      " [  4.90497577e-04   2.30788133e-05  -3.28153439e-04]\n",
      " [  3.34105029e-04  -1.44196232e-03   7.78293254e-04]\n",
      " [ -1.30358475e-03  -4.06178780e-04  -8.41298489e-04]\n",
      " [  5.38495461e-04  -4.52412497e-04   5.58767763e-04]]\n"
     ]
    }
   ],
   "source": [
    "print(movie_features) "
   ]
  },
  {
   "cell_type": "code",
   "execution_count": 110,
   "metadata": {},
   "outputs": [],
   "source": [
    "all_predictions = movie_features.dot(user_prefs.T)  #Prediction matrix for ratings matrix"
   ]
  },
  {
   "cell_type": "code",
   "execution_count": 111,
   "metadata": {},
   "outputs": [
    {
     "name": "stdout",
     "output_type": "stream",
     "text": [
      "[[  9.20177617e-08  -5.34979115e-09   1.32123483e-07  -2.87693639e-08\n",
      "    4.38147884e-08   2.90761943e-08]\n",
      " [ -5.18710470e-07  -1.63196805e-07  -4.83118694e-07   1.09778558e-07\n",
      "   -2.82139895e-07  -8.98449453e-08]\n",
      " [  2.03285030e-08  -1.83242773e-07   1.08575003e-07  -5.91693424e-08\n",
      "   -8.25514419e-08   1.62741388e-07]\n",
      " [  4.94509845e-07   2.56702356e-07   1.11850065e-07  -8.16668877e-08\n",
      "    2.12338489e-07   1.56774308e-07]\n",
      " [ -9.15809255e-10   1.39447400e-09  -8.19677808e-08  -9.91904261e-10\n",
      "   -2.81068421e-08   4.00713361e-08]\n",
      " [ -4.48869523e-07  -1.08235533e-07  -2.72880349e-07   1.07889888e-07\n",
      "   -1.70938750e-07  -1.88804502e-07]\n",
      " [ -8.42921033e-08  -6.69585210e-09   1.31885445e-07   2.81512740e-08\n",
      "    4.17504703e-08  -1.45184258e-07]\n",
      " [ -4.05633245e-07   1.86480852e-07  -6.96811413e-07   1.73173179e-07\n",
      "   -1.25971962e-07  -2.45561176e-07]\n",
      " [  4.53608500e-07   3.33934415e-07  -6.63777430e-08  -4.89735623e-08\n",
      "    2.00028560e-07   1.24613974e-07]\n",
      " [ -3.01146754e-07  -2.67941779e-08  -2.55438646e-07   8.45846998e-08\n",
      "   -1.10017856e-07  -1.38852378e-07]]\n"
     ]
    }
   ],
   "source": [
    "print(all_predictions) \n",
    "#We were not expecting these value for the ratings\n",
    "#Ratings are provided 1 to 10 and integer values \n",
    "#We are getting these values because we normalized our ratings matrix"
   ]
  },
  {
   "cell_type": "code",
   "execution_count": 116,
   "metadata": {},
   "outputs": [
    {
     "name": "stdout",
     "output_type": "stream",
     "text": [
      "[[  9.20177614e-08]\n",
      " [ -5.18710470e-07]\n",
      " [  2.03285033e-08]\n",
      " [  4.94509846e-07]\n",
      " [ -9.15809650e-10]\n",
      " [ -4.48869523e-07]\n",
      " [ -8.42921031e-08]\n",
      " [ -4.05633245e-07]\n",
      " [  4.53608500e-07]\n",
      " [ -3.01146754e-07]]\n"
     ]
    }
   ],
   "source": [
    "predictions_for_priya = all_predictions[: , 0:1] +ratings_mean\n",
    "\n",
    "print(predictions_for_priya)"
   ]
  },
  {
   "cell_type": "code",
   "execution_count": null,
   "metadata": {},
   "outputs": [],
   "source": []
  },
  {
   "cell_type": "code",
   "execution_count": null,
   "metadata": {},
   "outputs": [],
   "source": []
  },
  {
   "cell_type": "code",
   "execution_count": null,
   "metadata": {
    "collapsed": true
   },
   "outputs": [],
   "source": []
  },
  {
   "cell_type": "code",
   "execution_count": null,
   "metadata": {
    "collapsed": true
   },
   "outputs": [],
   "source": []
  }
 ],
 "metadata": {
  "kernelspec": {
   "display_name": "Python 3",
   "language": "python",
   "name": "python3"
  },
  "language_info": {
   "codemirror_mode": {
    "name": "ipython",
    "version": 3
   },
   "file_extension": ".py",
   "mimetype": "text/x-python",
   "name": "python",
   "nbconvert_exporter": "python",
   "pygments_lexer": "ipython3",
   "version": "3.6.1"
  }
 },
 "nbformat": 4,
 "nbformat_minor": 2
}
